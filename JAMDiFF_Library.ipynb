{
  "nbformat": 4,
  "nbformat_minor": 0,
  "metadata": {
    "colab": {
      "provenance": []
    },
    "kernelspec": {
      "name": "python3",
      "display_name": "Python 3"
    },
    "language_info": {
      "name": "python"
    }
  },
  "cells": [
    {
      "cell_type": "markdown",
      "metadata": {
        "id": "view-in-github"
      },
      "source": [
        "<a href=\"https://colab.research.google.com/github/prokudin/JAMDiFF_library/blob/main/JAMDiFF_Library.ipynb\" target=\"_parent\"><img src=\"https://colab.research.google.com/assets/colab-badge.svg\" alt=\"Open In Colab\"/></a>"
      ]
    },
    {
      "cell_type": "markdown",
      "source": [
        "# **Institutions and Authors**\n",
        "* Christopher Cocuzza <christopher.cocuzza@temple.edu>\n",
        "* Andreas Metz <metza@temple.edu>\n",
        "* Daniel Pitonyak <pitonyak@lvc.edu>\n",
        "* Alexei Prokudin <prokudin@jlab.org>\n",
        "* Nobuo Sato <nsato@jlab.org>\n",
        "* Ralf Seidl <rseidl@ribf.riken.jp>\n",
        "\n",
        "\n",
        "\n"
      ],
      "metadata": {
        "id": "4qAghjm_EyX7"
      }
    },
    {
      "cell_type": "markdown",
      "source": [
        "#**Library of functions from the JAM Collaboration**\n",
        "\n",
        "## **JAMDiFF**\n",
        "\n",
        "\n",
        "*   **Reference:** [arXiv:2306.12998](https://arxiv.org/pdf/2306.12998.pdf)\n",
        "*   **Reference:** [arXiv:2308.14857](https://arxiv.org/pdf/2308.14857.pdf)\n",
        "*   **Functions extracted:** transversity $h_1(x)$ and dihadron fragmentation frinctions $D_1(z,M_h)$ and $H_1^{\\sphericalangle}(z,M_h)$\n",
        "\n"
      ],
      "metadata": {
        "id": "IKuOPv9QuQXl"
      }
    },
    {
      "cell_type": "markdown",
      "source": [
        "## Clone relevant repositories"
      ],
      "metadata": {
        "id": "A9LW1-PR6taD"
      }
    },
    {
      "cell_type": "code",
      "source": [
        "!git clone https://github.com/prokudin/JAMDiFF_library.git"
      ],
      "metadata": {
        "colab": {
          "base_uri": "https://localhost:8080/"
        },
        "id": "peghDg4s3whK",
        "outputId": "807782bb-10c8-4739-c869-d15493bca9e2"
      },
      "execution_count": 1,
      "outputs": [
        {
          "output_type": "stream",
          "name": "stdout",
          "text": [
            "Cloning into 'JAMDiFF_library'...\n",
            "remote: Enumerating objects: 2915, done.\u001b[K\n",
            "remote: Counting objects: 100% (961/961), done.\u001b[K\n",
            "remote: Compressing objects: 100% (923/923), done.\u001b[K\n",
            "remote: Total 2915 (delta 37), reused 933 (delta 26), pack-reused 1954\u001b[K\n",
            "Receiving objects: 100% (2915/2915), 74.76 MiB | 16.27 MiB/s, done.\n",
            "Resolving deltas: 100% (39/39), done.\n",
            "Updating files: 100% (2798/2798), done.\n"
          ]
        }
      ]
    },
    {
      "cell_type": "markdown",
      "source": [
        "## Preamble code"
      ],
      "metadata": {
        "id": "TbM_leCJ71rZ"
      }
    },
    {
      "cell_type": "code",
      "source": [
        "import os,sys\n",
        "sys.path.append('/content/JAMDiFF_library')\n",
        "os.environ[\"JAMDiFF\"] = \"/content/JAMDiFF_library\"\n",
        "#--from corelib\n",
        "from analysis.corelib import core, jar\n",
        "\n",
        "#--from qpdlib\n",
        "from analysis.qpdlib import diff, tpdf, tensorcharge\n"
      ],
      "metadata": {
        "id": "kjzIxAKq79Ra"
      },
      "execution_count": 2,
      "outputs": []
    },
    {
      "cell_type": "code",
      "source": [
        "cd /content/JAMDiFF_library"
      ],
      "metadata": {
        "colab": {
          "base_uri": "https://localhost:8080/"
        },
        "id": "eC-a0nAbuZSH",
        "outputId": "b4e12724-9805-486c-d709-3b890244efbb"
      },
      "execution_count": 5,
      "outputs": [
        {
          "output_type": "stream",
          "name": "stdout",
          "text": [
            "/content/JAMDiFF_library\n"
          ]
        }
      ]
    },
    {
      "cell_type": "markdown",
      "source": [
        "You can plot results from the following fits: with LQCD and without LQCD,\n",
        "use the appropriate tag to do it"
      ],
      "metadata": {
        "id": "oz9cB3IXtf4X"
      }
    },
    {
      "cell_type": "code",
      "source": [
        "wdir = 'results/noLQCD'# Use this one for plots without LQCD analysis\n",
        "#wdir = 'results/wLQCD' # Use this one for plots with LQCD analysis"
      ],
      "metadata": {
        "id": "QconbyKiKe0J"
      },
      "execution_count": 6,
      "outputs": []
    },
    {
      "cell_type": "markdown",
      "source": [
        "\n",
        "\n",
        "```# This is formatted as code\n",
        "\n",
        "```\n",
        "\n",
        "## Plot results"
      ],
      "metadata": {
        "id": "0XZ7JoPP-_Ul"
      }
    },
    {
      "cell_type": "code",
      "source": [
        "###################################################\n",
        "##--Plot QCFs\n",
        "###################################################\n",
        "\n",
        "tpdf.gen_xf(wdir,Q2=4) # Change Q2 if needed\n",
        "tpdf.plot_xf(wdir,Q2=4,mode=0)\n",
        "tpdf.plot_xf(wdir,Q2=4,mode=1)"
      ],
      "metadata": {
        "colab": {
          "base_uri": "https://localhost:8080/",
          "height": 426
        },
        "id": "1L_4Ze3z8hSb",
        "outputId": "d6275c74-46fe-4663-e87b-819133811630"
      },
      "execution_count": 7,
      "outputs": [
        {
          "output_type": "stream",
          "name": "stdout",
          "text": [
            "\n",
            "generating tpdf at Q2 = 4 from results/noLQCD\n"
          ]
        },
        {
          "output_type": "error",
          "ename": "AttributeError",
          "evalue": "ignored",
          "traceback": [
            "\u001b[0;31m---------------------------------------------------------------------------\u001b[0m",
            "\u001b[0;31mAttributeError\u001b[0m                            Traceback (most recent call last)",
            "\u001b[0;32m<ipython-input-7-09a74fd0dd0b>\u001b[0m in \u001b[0;36m<cell line: 5>\u001b[0;34m()\u001b[0m\n\u001b[1;32m      3\u001b[0m \u001b[0;31m###################################################\u001b[0m\u001b[0;34m\u001b[0m\u001b[0;34m\u001b[0m\u001b[0m\n\u001b[1;32m      4\u001b[0m \u001b[0;34m\u001b[0m\u001b[0m\n\u001b[0;32m----> 5\u001b[0;31m \u001b[0mtpdf\u001b[0m\u001b[0;34m.\u001b[0m\u001b[0mgen_xf\u001b[0m\u001b[0;34m(\u001b[0m\u001b[0mwdir\u001b[0m\u001b[0;34m,\u001b[0m\u001b[0mQ2\u001b[0m\u001b[0;34m=\u001b[0m\u001b[0;36m4\u001b[0m\u001b[0;34m)\u001b[0m \u001b[0;31m# Change Q2 if needed\u001b[0m\u001b[0;34m\u001b[0m\u001b[0;34m\u001b[0m\u001b[0m\n\u001b[0m\u001b[1;32m      6\u001b[0m \u001b[0mtpdf\u001b[0m\u001b[0;34m.\u001b[0m\u001b[0mplot_xf\u001b[0m\u001b[0;34m(\u001b[0m\u001b[0mwdir\u001b[0m\u001b[0;34m,\u001b[0m\u001b[0mQ2\u001b[0m\u001b[0;34m=\u001b[0m\u001b[0;36m4\u001b[0m\u001b[0;34m,\u001b[0m\u001b[0mmode\u001b[0m\u001b[0;34m=\u001b[0m\u001b[0;36m0\u001b[0m\u001b[0;34m)\u001b[0m\u001b[0;34m\u001b[0m\u001b[0;34m\u001b[0m\u001b[0m\n\u001b[1;32m      7\u001b[0m \u001b[0mtpdf\u001b[0m\u001b[0;34m.\u001b[0m\u001b[0mplot_xf\u001b[0m\u001b[0;34m(\u001b[0m\u001b[0mwdir\u001b[0m\u001b[0;34m,\u001b[0m\u001b[0mQ2\u001b[0m\u001b[0;34m=\u001b[0m\u001b[0;36m4\u001b[0m\u001b[0;34m,\u001b[0m\u001b[0mmode\u001b[0m\u001b[0;34m=\u001b[0m\u001b[0;36m1\u001b[0m\u001b[0;34m)\u001b[0m\u001b[0;34m\u001b[0m\u001b[0;34m\u001b[0m\u001b[0m\n",
            "\u001b[0;32m/content/JAMDiFF_library/analysis/qpdlib/tpdf.py\u001b[0m in \u001b[0;36mgen_xf\u001b[0;34m(wdir, Q2)\u001b[0m\n\u001b[1;32m     54\u001b[0m \u001b[0;34m\u001b[0m\u001b[0m\n\u001b[1;32m     55\u001b[0m     \u001b[0mconf\u001b[0m\u001b[0;34m[\u001b[0m\u001b[0;34m'SofferBound'\u001b[0m\u001b[0;34m]\u001b[0m \u001b[0;34m=\u001b[0m \u001b[0;32mTrue\u001b[0m\u001b[0;34m\u001b[0m\u001b[0;34m\u001b[0m\u001b[0m\n\u001b[0;32m---> 56\u001b[0;31m     \u001b[0mresman\u001b[0m\u001b[0;34m=\u001b[0m\u001b[0mRESMAN\u001b[0m\u001b[0;34m(\u001b[0m\u001b[0mnworkers\u001b[0m\u001b[0;34m=\u001b[0m\u001b[0;36m1\u001b[0m\u001b[0;34m,\u001b[0m\u001b[0mparallel\u001b[0m\u001b[0;34m=\u001b[0m\u001b[0;32mFalse\u001b[0m\u001b[0;34m,\u001b[0m\u001b[0mdatasets\u001b[0m\u001b[0;34m=\u001b[0m\u001b[0;32mFalse\u001b[0m\u001b[0;34m)\u001b[0m\u001b[0;34m\u001b[0m\u001b[0;34m\u001b[0m\u001b[0m\n\u001b[0m\u001b[1;32m     57\u001b[0m     \u001b[0mparman\u001b[0m\u001b[0;34m=\u001b[0m\u001b[0mresman\u001b[0m\u001b[0;34m.\u001b[0m\u001b[0mparman\u001b[0m\u001b[0;34m\u001b[0m\u001b[0;34m\u001b[0m\u001b[0m\n\u001b[1;32m     58\u001b[0m     \u001b[0mparman\u001b[0m\u001b[0;34m.\u001b[0m\u001b[0morder\u001b[0m\u001b[0;34m=\u001b[0m\u001b[0mreplicas\u001b[0m\u001b[0;34m[\u001b[0m\u001b[0;36m0\u001b[0m\u001b[0;34m]\u001b[0m\u001b[0;34m[\u001b[0m\u001b[0;34m'order'\u001b[0m\u001b[0;34m]\u001b[0m\u001b[0;34m[\u001b[0m\u001b[0mistep\u001b[0m\u001b[0;34m]\u001b[0m\u001b[0;34m\u001b[0m\u001b[0;34m\u001b[0m\u001b[0m\n",
            "\u001b[0;32m/content/JAMDiFF_library/fitlib/resman.py\u001b[0m in \u001b[0;36m__init__\u001b[0;34m(self, nworkers, parallel, datasets, load_lhapdf)\u001b[0m\n\u001b[1;32m     23\u001b[0m \u001b[0;34m\u001b[0m\u001b[0m\n\u001b[1;32m     24\u001b[0m         \u001b[0mself\u001b[0m\u001b[0;34m.\u001b[0m\u001b[0mload_lhapdf\u001b[0m\u001b[0;34m=\u001b[0m\u001b[0mload_lhapdf\u001b[0m\u001b[0;34m\u001b[0m\u001b[0;34m\u001b[0m\u001b[0m\n\u001b[0;32m---> 25\u001b[0;31m         \u001b[0mself\u001b[0m\u001b[0;34m.\u001b[0m\u001b[0msetup_core\u001b[0m\u001b[0;34m(\u001b[0m\u001b[0;34m)\u001b[0m\u001b[0;34m\u001b[0m\u001b[0;34m\u001b[0m\u001b[0m\n\u001b[0m\u001b[1;32m     26\u001b[0m         \u001b[0mself\u001b[0m\u001b[0;34m.\u001b[0m\u001b[0mparman\u001b[0m\u001b[0;34m=\u001b[0m\u001b[0mPARMAN\u001b[0m\u001b[0;34m(\u001b[0m\u001b[0;34m)\u001b[0m\u001b[0;34m\u001b[0m\u001b[0;34m\u001b[0m\u001b[0m\n\u001b[1;32m     27\u001b[0m \u001b[0;34m\u001b[0m\u001b[0m\n",
            "\u001b[0;32m/content/JAMDiFF_library/fitlib/resman.py\u001b[0m in \u001b[0;36msetup_core\u001b[0;34m(self)\u001b[0m\n\u001b[1;32m     46\u001b[0m             \u001b[0;31m# lhapdf.setVerbosity(0)\u001b[0m\u001b[0;34m\u001b[0m\u001b[0;34m\u001b[0m\u001b[0m\n\u001b[1;32m     47\u001b[0m             \u001b[0mos\u001b[0m\u001b[0;34m.\u001b[0m\u001b[0menviron\u001b[0m\u001b[0;34m[\u001b[0m\u001b[0;34m'LHAPDF_DATA_PATH'\u001b[0m\u001b[0;34m]\u001b[0m \u001b[0;34m=\u001b[0m \u001b[0;34m'lhapdf'\u001b[0m\u001b[0;34m\u001b[0m\u001b[0;34m\u001b[0m\u001b[0m\n\u001b[0;32m---> 48\u001b[0;31m             \u001b[0mconf\u001b[0m\u001b[0;34m[\u001b[0m\u001b[0;34m'LHAPDF:PDF'\u001b[0m\u001b[0;34m]\u001b[0m   \u001b[0;34m=\u001b[0m \u001b[0mlhapdf\u001b[0m\u001b[0;34m.\u001b[0m\u001b[0mmkPDFs\u001b[0m\u001b[0;34m(\u001b[0m\u001b[0mself\u001b[0m\u001b[0;34m.\u001b[0m\u001b[0mlhapdf_pdf\u001b[0m \u001b[0;34m)\u001b[0m\u001b[0;34m\u001b[0m\u001b[0;34m\u001b[0m\u001b[0m\n\u001b[0m\u001b[1;32m     49\u001b[0m             \u001b[0mconf\u001b[0m\u001b[0;34m[\u001b[0m\u001b[0;34m'LHAPDF:PPDF'\u001b[0m\u001b[0;34m]\u001b[0m  \u001b[0;34m=\u001b[0m \u001b[0mlhapdf\u001b[0m\u001b[0;34m.\u001b[0m\u001b[0mmkPDFs\u001b[0m\u001b[0;34m(\u001b[0m\u001b[0mself\u001b[0m\u001b[0;34m.\u001b[0m\u001b[0mlhapdf_ppdf\u001b[0m\u001b[0;34m)\u001b[0m\u001b[0;34m\u001b[0m\u001b[0;34m\u001b[0m\u001b[0m\n\u001b[1;32m     50\u001b[0m             \u001b[0;31m# lhapdf.setVerbosity(1)\u001b[0m\u001b[0;34m\u001b[0m\u001b[0;34m\u001b[0m\u001b[0m\n",
            "\u001b[0;31mAttributeError\u001b[0m: module 'lhapdf' has no attribute 'mkPDFs'"
          ]
        }
      ]
    },
    {
      "cell_type": "code",
      "source": [],
      "metadata": {
        "id": "jXeo9P8TCZIz"
      },
      "execution_count": null,
      "outputs": []
    }
  ]
}